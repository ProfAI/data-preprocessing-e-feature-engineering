{
 "cells": [
  {
   "cell_type": "code",
   "execution_count": 1,
   "metadata": {},
   "outputs": [],
   "source": [
    "import pandas as pd\n",
    "from sklearn.pipeline import make_pipeline"
   ]
  },
  {
   "cell_type": "code",
   "execution_count": 4,
   "metadata": {},
   "outputs": [],
   "source": [
    "from sklearn.impute import SimpleImputer\n",
    "from sklearn.compose import ColumnTransformer, make_column_selector\n",
    "from sklearn.preprocessing import OneHotEncoder"
   ]
  },
  {
   "cell_type": "code",
   "execution_count": 3,
   "metadata": {},
   "outputs": [],
   "source": [
    "df = pd.read_csv(\"sample_dataset.csv\")"
   ]
  },
  {
   "cell_type": "code",
   "execution_count": 5,
   "metadata": {},
   "outputs": [],
   "source": [
    "transformer = ColumnTransformer([\n",
    "    ('categoriche',make_pipeline(SimpleImputer(strategy='most_frequent'),OneHotEncoder(sparse=False)),make_column_selector(dtype_include=['object'])),\n",
    "    ('numeriche',SimpleImputer(strategy='median'),make_column_selector(dtype_exclude=['object']))\n",
    "])"
   ]
  },
  {
   "cell_type": "code",
   "execution_count": 6,
   "metadata": {},
   "outputs": [
    {
     "data": {
      "text/plain": [
       "array([[1.     , 0.     , 0.     , ..., 0.4601 , 0.1189 , 0.     ],\n",
       "       [1.     , 0.     , 0.     , ..., 0.275  , 0.07987, 0.     ],\n",
       "       [1.     , 0.     , 0.     , ..., 0.3613 , 0.08758, 0.     ],\n",
       "       ...,\n",
       "       [1.     , 0.     , 0.     , ..., 0.2218 , 0.0782 , 0.     ],\n",
       "       [1.     , 0.     , 0.     , ..., 0.4087 , 0.124  , 0.     ],\n",
       "       [1.     , 0.     , 0.     , ..., 0.2871 , 0.07039, 1.     ]])"
      ]
     },
     "execution_count": 6,
     "metadata": {},
     "output_type": "execute_result"
    }
   ],
   "source": [
    "transformer.fit_transform(df)"
   ]
  },
  {
   "cell_type": "code",
   "execution_count": null,
   "metadata": {},
   "outputs": [],
   "source": []
  }
 ],
 "metadata": {
  "kernelspec": {
   "display_name": "Python 3",
   "language": "python",
   "name": "python3"
  },
  "language_info": {
   "codemirror_mode": {
    "name": "ipython",
    "version": 3
   },
   "file_extension": ".py",
   "mimetype": "text/x-python",
   "name": "python",
   "nbconvert_exporter": "python",
   "pygments_lexer": "ipython3",
   "version": "3.8.7"
  }
 },
 "nbformat": 4,
 "nbformat_minor": 4
}
