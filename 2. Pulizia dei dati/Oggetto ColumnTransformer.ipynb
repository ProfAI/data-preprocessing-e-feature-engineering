{
 "cells": [
  {
   "cell_type": "code",
   "execution_count": 21,
   "metadata": {},
   "outputs": [],
   "source": [
    "import pandas as pd\n",
    "\n",
    "from sklearn.compose import ColumnTransformer, make_column_selector\n",
    "from sklearn.impute import SimpleImputer"
   ]
  },
  {
   "cell_type": "code",
   "execution_count": 3,
   "metadata": {},
   "outputs": [],
   "source": [
    "df = pd.read_csv(\"sample_dataset.csv\")"
   ]
  },
  {
   "cell_type": "code",
   "execution_count": 5,
   "metadata": {},
   "outputs": [],
   "source": [
    "categorical = df.select_dtypes(include = ['object','category','bool']).columns\n",
    "numerical = df.select_dtypes(exclude = ['object','category','bool']).columns"
   ]
  },
  {
   "cell_type": "markdown",
   "metadata": {},
   "source": [
    "# Trasformazione mediante specifica dei nomi delle colonne"
   ]
  },
  {
   "cell_type": "code",
   "execution_count": 7,
   "metadata": {},
   "outputs": [],
   "source": [
    "transformer = ColumnTransformer([\n",
    "    ('numeriche', SimpleImputer(), numerical),\n",
    "    ('categoriche', SimpleImputer(strategy=\"most_frequent\"), categorical)\n",
    "])"
   ]
  },
  {
   "cell_type": "code",
   "execution_count": 8,
   "metadata": {},
   "outputs": [
    {
     "data": {
      "text/html": [
       "<style>#sk-container-id-1 {color: black;background-color: white;}#sk-container-id-1 pre{padding: 0;}#sk-container-id-1 div.sk-toggleable {background-color: white;}#sk-container-id-1 label.sk-toggleable__label {cursor: pointer;display: block;width: 100%;margin-bottom: 0;padding: 0.3em;box-sizing: border-box;text-align: center;}#sk-container-id-1 label.sk-toggleable__label-arrow:before {content: \"▸\";float: left;margin-right: 0.25em;color: #696969;}#sk-container-id-1 label.sk-toggleable__label-arrow:hover:before {color: black;}#sk-container-id-1 div.sk-estimator:hover label.sk-toggleable__label-arrow:before {color: black;}#sk-container-id-1 div.sk-toggleable__content {max-height: 0;max-width: 0;overflow: hidden;text-align: left;background-color: #f0f8ff;}#sk-container-id-1 div.sk-toggleable__content pre {margin: 0.2em;color: black;border-radius: 0.25em;background-color: #f0f8ff;}#sk-container-id-1 input.sk-toggleable__control:checked~div.sk-toggleable__content {max-height: 200px;max-width: 100%;overflow: auto;}#sk-container-id-1 input.sk-toggleable__control:checked~label.sk-toggleable__label-arrow:before {content: \"▾\";}#sk-container-id-1 div.sk-estimator input.sk-toggleable__control:checked~label.sk-toggleable__label {background-color: #d4ebff;}#sk-container-id-1 div.sk-label input.sk-toggleable__control:checked~label.sk-toggleable__label {background-color: #d4ebff;}#sk-container-id-1 input.sk-hidden--visually {border: 0;clip: rect(1px 1px 1px 1px);clip: rect(1px, 1px, 1px, 1px);height: 1px;margin: -1px;overflow: hidden;padding: 0;position: absolute;width: 1px;}#sk-container-id-1 div.sk-estimator {font-family: monospace;background-color: #f0f8ff;border: 1px dotted black;border-radius: 0.25em;box-sizing: border-box;margin-bottom: 0.5em;}#sk-container-id-1 div.sk-estimator:hover {background-color: #d4ebff;}#sk-container-id-1 div.sk-parallel-item::after {content: \"\";width: 100%;border-bottom: 1px solid gray;flex-grow: 1;}#sk-container-id-1 div.sk-label:hover label.sk-toggleable__label {background-color: #d4ebff;}#sk-container-id-1 div.sk-serial::before {content: \"\";position: absolute;border-left: 1px solid gray;box-sizing: border-box;top: 0;bottom: 0;left: 50%;z-index: 0;}#sk-container-id-1 div.sk-serial {display: flex;flex-direction: column;align-items: center;background-color: white;padding-right: 0.2em;padding-left: 0.2em;position: relative;}#sk-container-id-1 div.sk-item {position: relative;z-index: 1;}#sk-container-id-1 div.sk-parallel {display: flex;align-items: stretch;justify-content: center;background-color: white;position: relative;}#sk-container-id-1 div.sk-item::before, #sk-container-id-1 div.sk-parallel-item::before {content: \"\";position: absolute;border-left: 1px solid gray;box-sizing: border-box;top: 0;bottom: 0;left: 50%;z-index: -1;}#sk-container-id-1 div.sk-parallel-item {display: flex;flex-direction: column;z-index: 1;position: relative;background-color: white;}#sk-container-id-1 div.sk-parallel-item:first-child::after {align-self: flex-end;width: 50%;}#sk-container-id-1 div.sk-parallel-item:last-child::after {align-self: flex-start;width: 50%;}#sk-container-id-1 div.sk-parallel-item:only-child::after {width: 0;}#sk-container-id-1 div.sk-dashed-wrapped {border: 1px dashed gray;margin: 0 0.4em 0.5em 0.4em;box-sizing: border-box;padding-bottom: 0.4em;background-color: white;}#sk-container-id-1 div.sk-label label {font-family: monospace;font-weight: bold;display: inline-block;line-height: 1.2em;}#sk-container-id-1 div.sk-label-container {text-align: center;}#sk-container-id-1 div.sk-container {/* jupyter's `normalize.less` sets `[hidden] { display: none; }` but bootstrap.min.css set `[hidden] { display: none !important; }` so we also need the `!important` here to be able to override the default hidden behavior on the sphinx rendered scikit-learn.org. See: https://github.com/scikit-learn/scikit-learn/issues/21755 */display: inline-block !important;position: relative;}#sk-container-id-1 div.sk-text-repr-fallback {display: none;}</style><div id=\"sk-container-id-1\" class=\"sk-top-container\"><div class=\"sk-text-repr-fallback\"><pre>ColumnTransformer(transformers=[(&#x27;numeriche&#x27;, SimpleImputer(),\n",
       "                                 Index([&#x27;mean radius&#x27;, &#x27;mean texture&#x27;, &#x27;mean perimeter&#x27;, &#x27;mean area&#x27;,\n",
       "       &#x27;mean smoothness&#x27;, &#x27;mean compactness&#x27;, &#x27;mean concavity&#x27;,\n",
       "       &#x27;mean concave points&#x27;, &#x27;mean symmetry&#x27;, &#x27;mean fractal dimension&#x27;,\n",
       "       &#x27;radius error&#x27;, &#x27;texture error&#x27;, &#x27;perimeter error&#x27;, &#x27;smoothness error&#x27;,\n",
       "       &#x27;compactness error&#x27;, &#x27;concavity error&#x27;, &#x27;concave points error&#x27;,\n",
       "       &#x27;symmetry error&#x27;, &#x27;fractal dimension error&#x27;, &#x27;worst radius&#x27;,\n",
       "       &#x27;worst texture&#x27;, &#x27;worst perimeter&#x27;, &#x27;worst area&#x27;, &#x27;worst smoothness&#x27;,\n",
       "       &#x27;worst compactness&#x27;, &#x27;worst concavity&#x27;, &#x27;worst concave points&#x27;,\n",
       "       &#x27;worst symmetry&#x27;, &#x27;worst fractal dimension&#x27;, &#x27;target&#x27;],\n",
       "      dtype=&#x27;object&#x27;)),\n",
       "                                (&#x27;categoriche&#x27;,\n",
       "                                 SimpleImputer(strategy=&#x27;most_frequent&#x27;),\n",
       "                                 Index([&#x27;area error&#x27;], dtype=&#x27;object&#x27;))])</pre><b>In a Jupyter environment, please rerun this cell to show the HTML representation or trust the notebook. <br />On GitHub, the HTML representation is unable to render, please try loading this page with nbviewer.org.</b></div><div class=\"sk-container\" hidden><div class=\"sk-item sk-dashed-wrapped\"><div class=\"sk-label-container\"><div class=\"sk-label sk-toggleable\"><input class=\"sk-toggleable__control sk-hidden--visually\" id=\"sk-estimator-id-1\" type=\"checkbox\" ><label for=\"sk-estimator-id-1\" class=\"sk-toggleable__label sk-toggleable__label-arrow\">ColumnTransformer</label><div class=\"sk-toggleable__content\"><pre>ColumnTransformer(transformers=[(&#x27;numeriche&#x27;, SimpleImputer(),\n",
       "                                 Index([&#x27;mean radius&#x27;, &#x27;mean texture&#x27;, &#x27;mean perimeter&#x27;, &#x27;mean area&#x27;,\n",
       "       &#x27;mean smoothness&#x27;, &#x27;mean compactness&#x27;, &#x27;mean concavity&#x27;,\n",
       "       &#x27;mean concave points&#x27;, &#x27;mean symmetry&#x27;, &#x27;mean fractal dimension&#x27;,\n",
       "       &#x27;radius error&#x27;, &#x27;texture error&#x27;, &#x27;perimeter error&#x27;, &#x27;smoothness error&#x27;,\n",
       "       &#x27;compactness error&#x27;, &#x27;concavity error&#x27;, &#x27;concave points error&#x27;,\n",
       "       &#x27;symmetry error&#x27;, &#x27;fractal dimension error&#x27;, &#x27;worst radius&#x27;,\n",
       "       &#x27;worst texture&#x27;, &#x27;worst perimeter&#x27;, &#x27;worst area&#x27;, &#x27;worst smoothness&#x27;,\n",
       "       &#x27;worst compactness&#x27;, &#x27;worst concavity&#x27;, &#x27;worst concave points&#x27;,\n",
       "       &#x27;worst symmetry&#x27;, &#x27;worst fractal dimension&#x27;, &#x27;target&#x27;],\n",
       "      dtype=&#x27;object&#x27;)),\n",
       "                                (&#x27;categoriche&#x27;,\n",
       "                                 SimpleImputer(strategy=&#x27;most_frequent&#x27;),\n",
       "                                 Index([&#x27;area error&#x27;], dtype=&#x27;object&#x27;))])</pre></div></div></div><div class=\"sk-parallel\"><div class=\"sk-parallel-item\"><div class=\"sk-item\"><div class=\"sk-label-container\"><div class=\"sk-label sk-toggleable\"><input class=\"sk-toggleable__control sk-hidden--visually\" id=\"sk-estimator-id-2\" type=\"checkbox\" ><label for=\"sk-estimator-id-2\" class=\"sk-toggleable__label sk-toggleable__label-arrow\">numeriche</label><div class=\"sk-toggleable__content\"><pre>Index([&#x27;mean radius&#x27;, &#x27;mean texture&#x27;, &#x27;mean perimeter&#x27;, &#x27;mean area&#x27;,\n",
       "       &#x27;mean smoothness&#x27;, &#x27;mean compactness&#x27;, &#x27;mean concavity&#x27;,\n",
       "       &#x27;mean concave points&#x27;, &#x27;mean symmetry&#x27;, &#x27;mean fractal dimension&#x27;,\n",
       "       &#x27;radius error&#x27;, &#x27;texture error&#x27;, &#x27;perimeter error&#x27;, &#x27;smoothness error&#x27;,\n",
       "       &#x27;compactness error&#x27;, &#x27;concavity error&#x27;, &#x27;concave points error&#x27;,\n",
       "       &#x27;symmetry error&#x27;, &#x27;fractal dimension error&#x27;, &#x27;worst radius&#x27;,\n",
       "       &#x27;worst texture&#x27;, &#x27;worst perimeter&#x27;, &#x27;worst area&#x27;, &#x27;worst smoothness&#x27;,\n",
       "       &#x27;worst compactness&#x27;, &#x27;worst concavity&#x27;, &#x27;worst concave points&#x27;,\n",
       "       &#x27;worst symmetry&#x27;, &#x27;worst fractal dimension&#x27;, &#x27;target&#x27;],\n",
       "      dtype=&#x27;object&#x27;)</pre></div></div></div><div class=\"sk-serial\"><div class=\"sk-item\"><div class=\"sk-estimator sk-toggleable\"><input class=\"sk-toggleable__control sk-hidden--visually\" id=\"sk-estimator-id-3\" type=\"checkbox\" ><label for=\"sk-estimator-id-3\" class=\"sk-toggleable__label sk-toggleable__label-arrow\">SimpleImputer</label><div class=\"sk-toggleable__content\"><pre>SimpleImputer()</pre></div></div></div></div></div></div><div class=\"sk-parallel-item\"><div class=\"sk-item\"><div class=\"sk-label-container\"><div class=\"sk-label sk-toggleable\"><input class=\"sk-toggleable__control sk-hidden--visually\" id=\"sk-estimator-id-4\" type=\"checkbox\" ><label for=\"sk-estimator-id-4\" class=\"sk-toggleable__label sk-toggleable__label-arrow\">categoriche</label><div class=\"sk-toggleable__content\"><pre>Index([&#x27;area error&#x27;], dtype=&#x27;object&#x27;)</pre></div></div></div><div class=\"sk-serial\"><div class=\"sk-item\"><div class=\"sk-estimator sk-toggleable\"><input class=\"sk-toggleable__control sk-hidden--visually\" id=\"sk-estimator-id-5\" type=\"checkbox\" ><label for=\"sk-estimator-id-5\" class=\"sk-toggleable__label sk-toggleable__label-arrow\">SimpleImputer</label><div class=\"sk-toggleable__content\"><pre>SimpleImputer(strategy=&#x27;most_frequent&#x27;)</pre></div></div></div></div></div></div></div></div></div></div>"
      ],
      "text/plain": [
       "ColumnTransformer(transformers=[('numeriche', SimpleImputer(),\n",
       "                                 Index(['mean radius', 'mean texture', 'mean perimeter', 'mean area',\n",
       "       'mean smoothness', 'mean compactness', 'mean concavity',\n",
       "       'mean concave points', 'mean symmetry', 'mean fractal dimension',\n",
       "       'radius error', 'texture error', 'perimeter error', 'smoothness error',\n",
       "       'compactness error', 'concavity error', 'concave points error',\n",
       "       'symmetry error', 'fractal dimension error', 'worst radius',\n",
       "       'worst texture', 'worst perimeter', 'worst area', 'worst smoothness',\n",
       "       'worst compactness', 'worst concavity', 'worst concave points',\n",
       "       'worst symmetry', 'worst fractal dimension', 'target'],\n",
       "      dtype='object')),\n",
       "                                ('categoriche',\n",
       "                                 SimpleImputer(strategy='most_frequent'),\n",
       "                                 Index(['area error'], dtype='object'))])"
      ]
     },
     "execution_count": 8,
     "metadata": {},
     "output_type": "execute_result"
    }
   ],
   "source": [
    "transformer.fit(df)"
   ]
  },
  {
   "cell_type": "code",
   "execution_count": 9,
   "metadata": {},
   "outputs": [
    {
     "data": {
      "text/plain": [
       "array([[14.059547717842323, 10.38, 122.8, ..., 0.1189, 0.0, 'A'],\n",
       "       [20.57, 17.77, 132.9, ..., 0.08436317021276594, 0.0, 'A'],\n",
       "       [19.69, 21.25, 130.0, ..., 0.08758, 0.0, 'A'],\n",
       "       ...,\n",
       "       [16.6, 28.08, 108.3, ..., 0.0782, 0.0, 'A'],\n",
       "       [20.6, 29.33, 140.1, ..., 0.124, 0.0, 'A'],\n",
       "       [7.76, 19.311829268292684, 47.92, ..., 0.07039, 1.0, 'A']],\n",
       "      dtype=object)"
      ]
     },
     "execution_count": 9,
     "metadata": {},
     "output_type": "execute_result"
    }
   ],
   "source": [
    "transformer.transform(df)"
   ]
  },
  {
   "cell_type": "markdown",
   "metadata": {},
   "source": [
    "# Trasformazione mediante specifica degli indici delle colonne"
   ]
  },
  {
   "cell_type": "code",
   "execution_count": 10,
   "metadata": {},
   "outputs": [],
   "source": [
    "transformer2 = ColumnTransformer([\n",
    "    ('numeriche', SimpleImputer(), [0,1,2]),\n",
    "    ('categoriche', SimpleImputer(strategy=\"most_frequent\"), categorical)\n",
    "])"
   ]
  },
  {
   "cell_type": "code",
   "execution_count": 11,
   "metadata": {},
   "outputs": [
    {
     "data": {
      "text/plain": [
       "array([[14.059547717842323, 10.38, 122.8, 'A'],\n",
       "       [20.57, 17.77, 132.9, 'A'],\n",
       "       [19.69, 21.25, 130.0, 'A'],\n",
       "       ...,\n",
       "       [16.6, 28.08, 108.3, 'A'],\n",
       "       [20.6, 29.33, 140.1, 'A'],\n",
       "       [7.76, 19.311829268292684, 47.92, 'A']], dtype=object)"
      ]
     },
     "execution_count": 11,
     "metadata": {},
     "output_type": "execute_result"
    }
   ],
   "source": [
    "transformer2.fit_transform(df)"
   ]
  },
  {
   "cell_type": "markdown",
   "metadata": {},
   "source": [
    "# Colonne lasciate inalterate se non elencate"
   ]
  },
  {
   "cell_type": "code",
   "execution_count": 19,
   "metadata": {},
   "outputs": [],
   "source": [
    "transformer3 = ColumnTransformer([\n",
    "    ('numeriche', SimpleImputer(), [0,1,2]),\n",
    "    ('categoriche', SimpleImputer(strategy=\"most_frequent\"), categorical),\n",
    "], remainder = 'passthrough')"
   ]
  },
  {
   "cell_type": "code",
   "execution_count": 20,
   "metadata": {},
   "outputs": [
    {
     "data": {
      "text/plain": [
       "array([[14.059547717842323, 10.38, 122.8, ..., 0.4601, 0.1189, 0.0],\n",
       "       [20.57, 17.77, 132.9, ..., 0.275, nan, 0.0],\n",
       "       [19.69, 21.25, 130.0, ..., 0.3613, 0.08758, 0.0],\n",
       "       ...,\n",
       "       [16.6, 28.08, 108.3, ..., 0.2218, 0.0782, 0.0],\n",
       "       [20.6, 29.33, 140.1, ..., 0.4087, 0.124, 0.0],\n",
       "       [7.76, 19.311829268292684, 47.92, ..., 0.2871, 0.07039, 1.0]],\n",
       "      dtype=object)"
      ]
     },
     "execution_count": 20,
     "metadata": {},
     "output_type": "execute_result"
    }
   ],
   "source": [
    "transformer3.fit_transform(df)"
   ]
  },
  {
   "cell_type": "markdown",
   "metadata": {},
   "source": [
    "# make_column_selector"
   ]
  },
  {
   "cell_type": "code",
   "execution_count": 22,
   "metadata": {},
   "outputs": [],
   "source": [
    "transformer4 = ColumnTransformer([\n",
    "    ('numeriche', SimpleImputer(), make_column_selector(dtype_exclude=['object','category','bool'])),\n",
    "    ('categoriche', SimpleImputer(strategy=\"most_frequent\"), make_column_selector(dtype_include=['object','category','bool'])),\n",
    "])"
   ]
  },
  {
   "cell_type": "code",
   "execution_count": 23,
   "metadata": {},
   "outputs": [
    {
     "data": {
      "text/plain": [
       "array([[14.059547717842323, 10.38, 122.8, ..., 0.1189, 0.0, 'A'],\n",
       "       [20.57, 17.77, 132.9, ..., 0.08436317021276594, 0.0, 'A'],\n",
       "       [19.69, 21.25, 130.0, ..., 0.08758, 0.0, 'A'],\n",
       "       ...,\n",
       "       [16.6, 28.08, 108.3, ..., 0.0782, 0.0, 'A'],\n",
       "       [20.6, 29.33, 140.1, ..., 0.124, 0.0, 'A'],\n",
       "       [7.76, 19.311829268292684, 47.92, ..., 0.07039, 1.0, 'A']],\n",
       "      dtype=object)"
      ]
     },
     "execution_count": 23,
     "metadata": {},
     "output_type": "execute_result"
    }
   ],
   "source": [
    "transformer4.fit_transform(df)"
   ]
  },
  {
   "cell_type": "code",
   "execution_count": null,
   "metadata": {},
   "outputs": [],
   "source": []
  }
 ],
 "metadata": {
  "kernelspec": {
   "display_name": "Python 3",
   "language": "python",
   "name": "python3"
  },
  "language_info": {
   "codemirror_mode": {
    "name": "ipython",
    "version": 3
   },
   "file_extension": ".py",
   "mimetype": "text/x-python",
   "name": "python",
   "nbconvert_exporter": "python",
   "pygments_lexer": "ipython3",
   "version": "3.8.7"
  }
 },
 "nbformat": 4,
 "nbformat_minor": 4
}
