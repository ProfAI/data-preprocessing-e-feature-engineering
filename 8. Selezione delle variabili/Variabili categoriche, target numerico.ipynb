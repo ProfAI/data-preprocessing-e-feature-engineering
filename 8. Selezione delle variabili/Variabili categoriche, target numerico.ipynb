{
 "cells": [
  {
   "cell_type": "code",
   "execution_count": 1,
   "metadata": {},
   "outputs": [],
   "source": [
    "import pandas as pd"
   ]
  },
  {
   "cell_type": "code",
   "execution_count": 2,
   "metadata": {},
   "outputs": [],
   "source": [
    "from sklearn.preprocessing import KBinsDiscretizer"
   ]
  },
  {
   "cell_type": "code",
   "execution_count": 3,
   "metadata": {},
   "outputs": [],
   "source": [
    "from sklearn.feature_selection import SelectKBest, mutual_info_regression"
   ]
  },
  {
   "cell_type": "code",
   "execution_count": 4,
   "metadata": {},
   "outputs": [],
   "source": [
    "df = pd.read_csv(\"sample_dataset.csv\").iloc[:,0:10].dropna()"
   ]
  },
  {
   "cell_type": "code",
   "execution_count": 6,
   "metadata": {},
   "outputs": [],
   "source": [
    "X = df.iloc[:,0:9]"
   ]
  },
  {
   "cell_type": "code",
   "execution_count": 10,
   "metadata": {},
   "outputs": [],
   "source": [
    "y = df.iloc[:,-1]"
   ]
  },
  {
   "cell_type": "code",
   "execution_count": 7,
   "metadata": {},
   "outputs": [],
   "source": [
    "discr = KBinsDiscretizer(n_bins=10,strategy=\"quantile\",encode=\"ordinal\")"
   ]
  },
  {
   "cell_type": "code",
   "execution_count": 9,
   "metadata": {},
   "outputs": [],
   "source": [
    "X2 = discr.fit_transform(X)"
   ]
  },
  {
   "cell_type": "code",
   "execution_count": 11,
   "metadata": {},
   "outputs": [],
   "source": [
    "selector = SelectKBest(lambda X,y : mutual_info_regression(X,y,discrete_features=True),k = 4)"
   ]
  },
  {
   "cell_type": "code",
   "execution_count": 12,
   "metadata": {},
   "outputs": [
    {
     "data": {
      "text/plain": [
       "array([[9., 9., 8., 9.],\n",
       "       [5., 5., 7., 2.],\n",
       "       [8., 6., 4., 7.],\n",
       "       [7., 2., 2., 6.],\n",
       "       [7., 6., 6., 4.],\n",
       "       [7., 7., 5., 7.],\n",
       "       [0., 0., 0., 6.],\n",
       "       [0., 3., 4., 9.],\n",
       "       [8., 6., 6., 7.],\n",
       "       [6., 7., 5., 3.],\n",
       "       [9., 8., 8., 7.],\n",
       "       [9., 9., 6., 7.],\n",
       "       [3., 4., 6., 3.],\n",
       "       [8., 8., 8., 9.],\n",
       "       [3., 1., 1., 2.],\n",
       "       [4., 1., 2., 0.],\n",
       "       [2., 0., 0., 4.],\n",
       "       [2., 4., 5., 2.],\n",
       "       [6., 6., 8., 0.],\n",
       "       [4., 7., 7., 5.],\n",
       "       [3., 2., 2., 6.],\n",
       "       [6., 5., 7., 6.],\n",
       "       [2., 2., 5., 1.],\n",
       "       [0., 0., 1., 8.],\n",
       "       [4., 3., 1., 2.],\n",
       "       [1., 0., 0., 0.],\n",
       "       [9., 8., 9., 5.],\n",
       "       [1., 4., 4., 4.],\n",
       "       [3., 1., 1., 0.],\n",
       "       [1., 0., 0., 1.],\n",
       "       [4., 4., 3., 3.],\n",
       "       [9., 9., 9., 9.],\n",
       "       [1., 2., 2., 6.],\n",
       "       [0., 1., 0., 0.],\n",
       "       [5., 3., 1., 5.],\n",
       "       [9., 9., 9., 9.],\n",
       "       [7., 6., 5., 5.],\n",
       "       [6., 3., 4., 1.],\n",
       "       [2., 2., 3., 8.],\n",
       "       [5., 9., 9., 8.],\n",
       "       [6., 7., 8., 4.],\n",
       "       [2., 3., 2., 0.],\n",
       "       [5., 5., 6., 5.],\n",
       "       [3., 9., 9., 3.],\n",
       "       [4., 8., 7., 8.],\n",
       "       [0., 0., 0., 2.],\n",
       "       [0., 4., 4., 1.],\n",
       "       [1., 1., 3., 3.],\n",
       "       [8., 7., 7., 8.],\n",
       "       [8., 5., 3., 4.],\n",
       "       [7., 8., 9., 9.],\n",
       "       [5., 5., 3., 1.]])"
      ]
     },
     "execution_count": 12,
     "metadata": {},
     "output_type": "execute_result"
    }
   ],
   "source": [
    "selector.fit_transform(X2,y)"
   ]
  },
  {
   "cell_type": "code",
   "execution_count": 13,
   "metadata": {},
   "outputs": [
    {
     "data": {
      "text/plain": [
       "array([False, False, False, False,  True,  True,  True, False,  True])"
      ]
     },
     "execution_count": 13,
     "metadata": {},
     "output_type": "execute_result"
    }
   ],
   "source": [
    "selector.get_support()"
   ]
  },
  {
   "cell_type": "code",
   "execution_count": null,
   "metadata": {},
   "outputs": [],
   "source": []
  }
 ],
 "metadata": {
  "kernelspec": {
   "display_name": "Python 3",
   "language": "python",
   "name": "python3"
  },
  "language_info": {
   "codemirror_mode": {
    "name": "ipython",
    "version": 3
   },
   "file_extension": ".py",
   "mimetype": "text/x-python",
   "name": "python",
   "nbconvert_exporter": "python",
   "pygments_lexer": "ipython3",
   "version": "3.8.7"
  }
 },
 "nbformat": 4,
 "nbformat_minor": 4
}
