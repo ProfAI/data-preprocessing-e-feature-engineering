{
 "cells": [
  {
   "cell_type": "markdown",
   "metadata": {},
   "source": [
    "# Pre-processing\n",
    "## Variabili numeriche\n",
    "* Pulizia dei missing mediante valore medio\n",
    "* Standardizzazione\n",
    "* PCA (80% varianza totale)\n",
    "\n",
    "\n",
    "\n",
    "## Variabili categoriche\n",
    "* Pulizia dei missing mediante valore più probabile\n",
    "* One-hot encoding\n",
    "\n",
    "# Selezione delle 6 variabili più importanti usando una ANOVA"
   ]
  },
  {
   "cell_type": "code",
   "execution_count": 1,
   "metadata": {},
   "outputs": [],
   "source": [
    "import pandas as pd"
   ]
  },
  {
   "cell_type": "code",
   "execution_count": 4,
   "metadata": {},
   "outputs": [],
   "source": [
    "from sklearn.impute import SimpleImputer\n",
    "from sklearn.preprocessing import StandardScaler, OneHotEncoder"
   ]
  },
  {
   "cell_type": "code",
   "execution_count": 3,
   "metadata": {},
   "outputs": [],
   "source": [
    "from sklearn.decomposition import PCA"
   ]
  },
  {
   "cell_type": "code",
   "execution_count": 5,
   "metadata": {},
   "outputs": [],
   "source": [
    "from sklearn.pipeline import Pipeline\n",
    "from sklearn.compose import ColumnTransformer, make_column_selector"
   ]
  },
  {
   "cell_type": "code",
   "execution_count": 9,
   "metadata": {},
   "outputs": [],
   "source": [
    "from sklearn.feature_selection import SelectKBest, f_classif"
   ]
  },
  {
   "cell_type": "code",
   "execution_count": 6,
   "metadata": {},
   "outputs": [],
   "source": [
    "df = pd.read_csv(\"sample_dataset.csv\")"
   ]
  },
  {
   "cell_type": "code",
   "execution_count": 7,
   "metadata": {},
   "outputs": [],
   "source": [
    "X = df.drop('target',axis=1)\n",
    "y = df['target']"
   ]
  },
  {
   "cell_type": "code",
   "execution_count": 17,
   "metadata": {},
   "outputs": [],
   "source": [
    "ct = ColumnTransformer([\n",
    "    (\n",
    "        'numeriche',\n",
    "         Pipeline([\n",
    "            ('missing',SimpleImputer(strategy='mean')),\n",
    "            ('scaler',StandardScaler()),\n",
    "            ('pca',PCA(n_components=0.8))\n",
    "         ]), \n",
    "         make_column_selector(dtype_exclude=['object','category','bool'])\n",
    "    ),\n",
    "    \n",
    "    (\n",
    "        'categoriche',\n",
    "        Pipeline([\n",
    "            ('missing', SimpleImputer(strategy='most_frequent')),\n",
    "            ('encoder',OneHotEncoder(sparse=False))\n",
    "        ]),\n",
    "        make_column_selector(dtype_include=['object','category','bool'])\n",
    "    )\n",
    "    \n",
    "])"
   ]
  },
  {
   "cell_type": "code",
   "execution_count": 18,
   "metadata": {},
   "outputs": [],
   "source": [
    "feature_selector = SelectKBest(f_classif,k = 6)"
   ]
  },
  {
   "cell_type": "code",
   "execution_count": 19,
   "metadata": {},
   "outputs": [],
   "source": [
    "pipeline = Pipeline([\n",
    "    ('column_transformer',ct),\n",
    "    ('selector',feature_selector)\n",
    "])"
   ]
  },
  {
   "cell_type": "code",
   "execution_count": 20,
   "metadata": {},
   "outputs": [
    {
     "data": {
      "text/plain": [
       "array([[ 8.53523674e+00,  2.61250626e+00, -1.49226559e+00,\n",
       "        -3.42792659e+00,  1.00000000e+00,  0.00000000e+00],\n",
       "       [ 2.73321855e+00, -3.71166122e+00,  1.65927031e-04,\n",
       "        -1.63242149e+00,  1.00000000e+00,  0.00000000e+00],\n",
       "       [ 4.63667835e+00, -1.19132058e+00, -2.86584909e-01,\n",
       "        -9.80911922e-01,  1.00000000e+00,  0.00000000e+00],\n",
       "       ...,\n",
       "       [ 1.08873892e+00, -2.15427891e+00,  1.16899456e+00,\n",
       "         2.09989618e+00,  1.00000000e+00,  0.00000000e+00],\n",
       "       [ 1.01797333e+01,  5.22505519e-01, -2.43102774e+00,\n",
       "         1.08556305e+00,  1.00000000e+00,  0.00000000e+00],\n",
       "       [-5.31084528e+00, -2.63343718e-01,  1.39742089e+00,\n",
       "         1.49304346e+00,  1.00000000e+00,  0.00000000e+00]])"
      ]
     },
     "execution_count": 20,
     "metadata": {},
     "output_type": "execute_result"
    }
   ],
   "source": [
    "pipeline.fit_transform(X,y)"
   ]
  },
  {
   "cell_type": "code",
   "execution_count": null,
   "metadata": {},
   "outputs": [],
   "source": []
  }
 ],
 "metadata": {
  "kernelspec": {
   "display_name": "Python 3",
   "language": "python",
   "name": "python3"
  },
  "language_info": {
   "codemirror_mode": {
    "name": "ipython",
    "version": 3
   },
   "file_extension": ".py",
   "mimetype": "text/x-python",
   "name": "python",
   "nbconvert_exporter": "python",
   "pygments_lexer": "ipython3",
   "version": "3.8.7"
  }
 },
 "nbformat": 4,
 "nbformat_minor": 4
}
