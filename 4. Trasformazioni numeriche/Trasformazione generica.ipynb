{
 "cells": [
  {
   "cell_type": "code",
   "execution_count": 4,
   "metadata": {},
   "outputs": [],
   "source": [
    "import pandas as pd\n",
    "import numpy as np"
   ]
  },
  {
   "cell_type": "code",
   "execution_count": 2,
   "metadata": {},
   "outputs": [],
   "source": [
    "from sklearn.preprocessing import FunctionTransformer"
   ]
  },
  {
   "cell_type": "code",
   "execution_count": 3,
   "metadata": {},
   "outputs": [],
   "source": [
    "df = pd.read_csv(\"sample_dataset.csv\").iloc[:,0:3].dropna()"
   ]
  },
  {
   "cell_type": "code",
   "execution_count": 5,
   "metadata": {},
   "outputs": [],
   "source": [
    "ft1 = FunctionTransformer(np.log)"
   ]
  },
  {
   "cell_type": "code",
   "execution_count": 6,
   "metadata": {},
   "outputs": [
    {
     "data": {
      "text/html": [
       "<div>\n",
       "<style scoped>\n",
       "    .dataframe tbody tr th:only-of-type {\n",
       "        vertical-align: middle;\n",
       "    }\n",
       "\n",
       "    .dataframe tbody tr th {\n",
       "        vertical-align: top;\n",
       "    }\n",
       "\n",
       "    .dataframe thead th {\n",
       "        text-align: right;\n",
       "    }\n",
       "</style>\n",
       "<table border=\"1\" class=\"dataframe\">\n",
       "  <thead>\n",
       "    <tr style=\"text-align: right;\">\n",
       "      <th></th>\n",
       "      <th>mean radius</th>\n",
       "      <th>mean texture</th>\n",
       "      <th>mean perimeter</th>\n",
       "    </tr>\n",
       "  </thead>\n",
       "  <tbody>\n",
       "    <tr>\n",
       "      <th>1</th>\n",
       "      <td>3.023834</td>\n",
       "      <td>2.877512</td>\n",
       "      <td>4.889597</td>\n",
       "    </tr>\n",
       "    <tr>\n",
       "      <th>2</th>\n",
       "      <td>2.980111</td>\n",
       "      <td>3.056357</td>\n",
       "      <td>4.867534</td>\n",
       "    </tr>\n",
       "    <tr>\n",
       "      <th>3</th>\n",
       "      <td>2.435366</td>\n",
       "      <td>3.014554</td>\n",
       "      <td>4.351310</td>\n",
       "    </tr>\n",
       "    <tr>\n",
       "      <th>5</th>\n",
       "      <td>2.521721</td>\n",
       "      <td>2.753661</td>\n",
       "      <td>4.413646</td>\n",
       "    </tr>\n",
       "    <tr>\n",
       "      <th>7</th>\n",
       "      <td>2.618125</td>\n",
       "      <td>3.036394</td>\n",
       "      <td>4.502029</td>\n",
       "    </tr>\n",
       "    <tr>\n",
       "      <th>...</th>\n",
       "      <td>...</td>\n",
       "      <td>...</td>\n",
       "      <td>...</td>\n",
       "    </tr>\n",
       "    <tr>\n",
       "      <th>562</th>\n",
       "      <td>2.722610</td>\n",
       "      <td>3.421653</td>\n",
       "      <td>4.638605</td>\n",
       "    </tr>\n",
       "    <tr>\n",
       "      <th>563</th>\n",
       "      <td>3.040706</td>\n",
       "      <td>3.222469</td>\n",
       "      <td>4.962845</td>\n",
       "    </tr>\n",
       "    <tr>\n",
       "      <th>564</th>\n",
       "      <td>3.070840</td>\n",
       "      <td>3.108614</td>\n",
       "      <td>4.955827</td>\n",
       "    </tr>\n",
       "    <tr>\n",
       "      <th>566</th>\n",
       "      <td>2.809403</td>\n",
       "      <td>3.335058</td>\n",
       "      <td>4.684905</td>\n",
       "    </tr>\n",
       "    <tr>\n",
       "      <th>567</th>\n",
       "      <td>3.025291</td>\n",
       "      <td>3.378611</td>\n",
       "      <td>4.942356</td>\n",
       "    </tr>\n",
       "  </tbody>\n",
       "</table>\n",
       "<p>385 rows × 3 columns</p>\n",
       "</div>"
      ],
      "text/plain": [
       "     mean radius  mean texture  mean perimeter\n",
       "1       3.023834      2.877512        4.889597\n",
       "2       2.980111      3.056357        4.867534\n",
       "3       2.435366      3.014554        4.351310\n",
       "5       2.521721      2.753661        4.413646\n",
       "7       2.618125      3.036394        4.502029\n",
       "..           ...           ...             ...\n",
       "562     2.722610      3.421653        4.638605\n",
       "563     3.040706      3.222469        4.962845\n",
       "564     3.070840      3.108614        4.955827\n",
       "566     2.809403      3.335058        4.684905\n",
       "567     3.025291      3.378611        4.942356\n",
       "\n",
       "[385 rows x 3 columns]"
      ]
     },
     "execution_count": 6,
     "metadata": {},
     "output_type": "execute_result"
    }
   ],
   "source": [
    "ft1.fit_transform(df)"
   ]
  },
  {
   "cell_type": "code",
   "execution_count": 7,
   "metadata": {},
   "outputs": [],
   "source": [
    "ft2 = FunctionTransformer(np.log,validate=True)"
   ]
  },
  {
   "cell_type": "code",
   "execution_count": 8,
   "metadata": {},
   "outputs": [
    {
     "data": {
      "text/plain": [
       "array([[3.0238337 , 2.87751164, 4.88959697],\n",
       "       [2.98011089, 3.0563569 , 4.86753445],\n",
       "       [2.4353662 , 3.01455403, 4.35130966],\n",
       "       ...,\n",
       "       [3.07083975, 3.10861443, 4.95582706],\n",
       "       [2.8094027 , 3.33505758, 4.68490515],\n",
       "       [3.02529108, 3.37861088, 4.94235645]])"
      ]
     },
     "execution_count": 8,
     "metadata": {},
     "output_type": "execute_result"
    }
   ],
   "source": [
    "ft2.fit_transform(df)"
   ]
  },
  {
   "cell_type": "code",
   "execution_count": 9,
   "metadata": {},
   "outputs": [],
   "source": [
    "ft3 = FunctionTransformer(lambda x : x + 3,validate=True)"
   ]
  },
  {
   "cell_type": "code",
   "execution_count": 10,
   "metadata": {},
   "outputs": [
    {
     "data": {
      "text/plain": [
       "array([[ 23.57,  20.77, 135.9 ],\n",
       "       [ 22.69,  24.25, 133.  ],\n",
       "       [ 14.42,  23.38,  80.58],\n",
       "       ...,\n",
       "       [ 24.56,  25.39, 145.  ],\n",
       "       [ 19.6 ,  31.08, 111.3 ],\n",
       "       [ 23.6 ,  32.33, 143.1 ]])"
      ]
     },
     "execution_count": 10,
     "metadata": {},
     "output_type": "execute_result"
    }
   ],
   "source": [
    "ft3.fit_transform(df)"
   ]
  },
  {
   "cell_type": "code",
   "execution_count": null,
   "metadata": {},
   "outputs": [],
   "source": []
  }
 ],
 "metadata": {
  "kernelspec": {
   "display_name": "Python 3",
   "language": "python",
   "name": "python3"
  },
  "language_info": {
   "codemirror_mode": {
    "name": "ipython",
    "version": 3
   },
   "file_extension": ".py",
   "mimetype": "text/x-python",
   "name": "python",
   "nbconvert_exporter": "python",
   "pygments_lexer": "ipython3",
   "version": "3.8.7"
  }
 },
 "nbformat": 4,
 "nbformat_minor": 4
}
